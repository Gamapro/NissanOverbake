{
 "cells": [
  {
   "cell_type": "code",
   "execution_count": 10,
   "metadata": {},
   "outputs": [],
   "source": [
    "import random\n",
    "import datetime\n",
    "\n",
    "regTotal = 10000;\n",
    "\n",
    "# Create a list of 1000 random numbers\n",
    "plcId = [random.randint(1, 4) for i in range(regTotal)]\n",
    "serialNumber = [random.randint(10000, 99999) for i in range(regTotal)]\n",
    "status = ['OK', 'ERROR', 'WARNING']\n",
    "message = ['Mensaje de prueba 1', 'Mensaje de prueba 2', 'Mensaje de prueba 3']\n",
    "\n",
    "# Create a list of 1000 random inserts\n",
    "inserts = []\n",
    "for i in range(regTotal):\n",
    "    inserts.append((',' if i > 0 else '')+\"('{}', {}, '{}', '{}', '{}')\".format(\n",
    "        # Random Datetime between 2018 and 2025\n",
    "        datetime.datetime(random.randint(2018, 2025), random.randint(1, 12), random.randint(1, 28), random.randint(0, 23), random.randint(0, 59), random.randint(0, 59)),\n",
    "        plcId[i],\n",
    "        serialNumber[i],\n",
    "        random.choice(status),\n",
    "        random.choice(message)\n",
    "    ))\n",
    "\n",
    "# Save the inserts to a file\n",
    "with open('insertsOverbakeLogs.sql', 'w') as f:\n",
    "    f.write('use overBake;\\n')\n",
    "    f.write('insert into logs(time, plcId, serialNumber, status, message) values ')\n",
    "    for i in inserts:\n",
    "        f.write(i);\n",
    "    f.write(';')"
   ]
  }
 ],
 "metadata": {
  "kernelspec": {
   "display_name": "Python 3",
   "language": "python",
   "name": "python3"
  },
  "language_info": {
   "codemirror_mode": {
    "name": "ipython",
    "version": 3
   },
   "file_extension": ".py",
   "mimetype": "text/x-python",
   "name": "python",
   "nbconvert_exporter": "python",
   "pygments_lexer": "ipython3",
   "version": "3.9.13"
  },
  "orig_nbformat": 4
 },
 "nbformat": 4,
 "nbformat_minor": 2
}
